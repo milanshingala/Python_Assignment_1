{
  "nbformat": 4,
  "nbformat_minor": 0,
  "metadata": {
    "colab": {
      "name": "Python_Assignment_1.ipynb",
      "provenance": [],
      "collapsed_sections": [],
      "authorship_tag": "ABX9TyO3Ct17R9q3nL9ZEd2j7VBb",
      "include_colab_link": true
    },
    "kernelspec": {
      "name": "python3",
      "display_name": "Python 3"
    },
    "language_info": {
      "name": "python"
    }
  },
  "cells": [
    {
      "cell_type": "markdown",
      "metadata": {
        "id": "view-in-github",
        "colab_type": "text"
      },
      "source": [
        "<a href=\"https://colab.research.google.com/github/milanshingala/Python_Assignment_1/blob/main/Python_Assignment_1.ipynb\" target=\"_parent\"><img src=\"https://colab.research.google.com/assets/colab-badge.svg\" alt=\"Open In Colab\"/></a>"
      ]
    },
    {
      "cell_type": "markdown",
      "source": [
        "**1) In the below elements which of them are values or an expression? eg:- values can be\n",
        "integer or string and expressions will be mathematical operators.**\n",
        "* '*' = Expression\n",
        "* 'hello' = Value\n",
        "* -87.8  = Value\n",
        "* '-'  = Expression\n",
        "*  ' / ' =Expression\n",
        "*  '+'  = Expression\n",
        "*  6  = Value"
      ],
      "metadata": {
        "id": "nKAkxP1Cdz83"
      }
    },
    {
      "cell_type": "markdown",
      "source": [
        "**2)What is the difference between string and variable?**\n",
        "* ans:- Variable Represents the name of the memory.\n",
        "      i.e:- x=10, here x is variable\n",
        "*string is a datatype,which represents a stored data is type of string in given variable\n",
        "     i.e:- a='milan', here type of a is string\n"
      ],
      "metadata": {
        "id": "qIN6zEQedNPr"
      }
    },
    {
      "cell_type": "markdown",
      "source": [
        "**3)Describe three different data types.**\n",
        "* Ans:- Int(Integer type):-this datatype represents an integer value.\n",
        "        i.e:- x=10 , here 10 is integer.\n",
        "* Float(Float type):-this datatype represents a float value.\n",
        "        i.e:- x=10.10, here 10.10 is float value.\n",
        "* str(String type):- this datatype represents a string value.\n",
        "        i.e:- s='milan', here s is string represented in single quotes."
      ],
      "metadata": {
        "id": "sLAZuB8ggkeZ"
      }
    },
    {
      "cell_type": "markdown",
      "source": [
        "**4)What is an expression made up of? What do all expressions do?**\n",
        "* Ans:- Expression is made of combination of variables,operator and Methods.Expressions is Evaluated by interpreter to print the Results."
      ],
      "metadata": {
        "id": "qubbdABCkdU5"
      }
    },
    {
      "cell_type": "markdown",
      "source": [
        "**5) This assignment statements, like spam = 10. What is the difference between an expression and a statement?**\n",
        "* Ans:- assignment statment is used to assign a value to a variable.\n",
        "      i.e:- x=10 , this is assignment statment\n",
        "* Expression is a combination of values and functions that are combined and interpreted by the compiler to create a new value.\n",
        "      i.e:- 7+9 , Expression of number and operator\n",
        "\n",
        "   "
      ],
      "metadata": {
        "id": "daCru0c1lmUk"
      }
    },
    {
      "cell_type": "markdown",
      "source": [
        "**6) After running the following code, what does the variable bacon contain?**\n",
        "* it gives 22 as output."
      ],
      "metadata": {
        "id": "4j9xZIXWu4XK"
      }
    },
    {
      "cell_type": "code",
      "source": [
        "bacon=22\n",
        "bacon+1\n",
        "print(bacon)"
      ],
      "metadata": {
        "colab": {
          "base_uri": "https://localhost:8080/"
        },
        "id": "3x3O_40svNLf",
        "outputId": "85deaea6-9b9d-4fd0-f277-9552ab8e0946"
      },
      "execution_count": null,
      "outputs": [
        {
          "output_type": "stream",
          "name": "stdout",
          "text": [
            "22\n"
          ]
        }
      ]
    },
    {
      "cell_type": "markdown",
      "source": [
        "**7)What should the values of the following two terms be?**\n",
        "* Output:- \n",
        "         'spamspamspam'\n",
        "         'spamspamspam'"
      ],
      "metadata": {
        "id": "Ps6JoPA4v2cC"
      }
    },
    {
      "cell_type": "markdown",
      "source": [
        "**8)Why is eggs a valid variable name while 100 is invalid?**\n",
        "* Ans:- 100 is invalid variable name because variable name must be start with \n",
        "   (a-z , A-Z , _ )"
      ],
      "metadata": {
        "id": "BcDQVseNwOtl"
      }
    },
    {
      "cell_type": "markdown",
      "source": [
        "**9) What three functions can be used to get the integer, floating-point number, or string version of a value?**\n",
        "* Ans:- value=10\n",
        "      1)int(value) =>for integer of value\n",
        "      2)float(value) => for float of value \n",
        "      3)str(value) => for string of value"
      ],
      "metadata": {
        "id": "BhpeC1OSxV6B"
      }
    },
    {
      "cell_type": "markdown",
      "source": [
        "**10)Why does this expression cause an error? How can you fix it?**\n",
        "*   'I have eaten' + 99 + 'burritos'\n",
        "* Ans:- we can not concatenate string with integer.so,we convert the integer 99 into a string and then it will concatenate the string.\n",
        "            'I have eaten' + str( 99) + 'burritos'"
      ],
      "metadata": {
        "id": "q6OHrDCUzOd3"
      }
    }
  ]
}